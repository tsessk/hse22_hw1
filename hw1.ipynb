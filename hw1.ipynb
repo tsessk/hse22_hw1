{
 "cells": [
  {
   "cell_type": "code",
   "execution_count": 40,
   "metadata": {},
   "outputs": [],
   "source": [
    "import re"
   ]
  },
  {
   "cell_type": "code",
   "execution_count": 37,
   "metadata": {},
   "outputs": [],
   "source": [
    "def foo(f, m):\n",
    "    ctgs = []\n",
    "    sum_l, n, max_l, l, score = 0, 0, 0, 0, 0\n",
    "    cur, max_seq = '', ''\n",
    "    \n",
    "    for line in f:\n",
    "        if line[0] == '>':\n",
    "            if n != 0:\n",
    "                ctgs.append(l)\n",
    "            n += 1\n",
    "            if l >= max_l:\n",
    "                max_l = l\n",
    "                max_seq = cur\n",
    "\n",
    "            cur = ''\n",
    "            l = 0\n",
    "        else:\n",
    "            cur += line.strip()\n",
    "            l += len(line.strip())\n",
    "            sum_l += len(line.strip())\n",
    "\n",
    "    if m != 'no_max_seq':\n",
    "        print('Количество гэпов: ', re.sub(r'N{2,}', 'N', max_seq).count(\"N\"))\n",
    "        print('Общая длина гэпов:', max_seq.count('N'))     \n",
    "\n",
    "    if m != 'only_max_seq':\n",
    "        print('Количество:', n, '\\nСуммарная длина:', sum_l, '\\nНаибольшая длина:', max_l)\n",
    "\n",
    "        ctgs.sort(reverse = True) \n",
    "        for i in ctgs:\n",
    "            score += i\n",
    "            if score >= sum_l / 2:\n",
    "                print('N50:', i)\n",
    "                break\n",
    "    else:  \n",
    "        return max_seq\n",
    "    "
   ]
  },
  {
   "cell_type": "code",
   "execution_count": 32,
   "metadata": {},
   "outputs": [
    {
     "name": "stdout",
     "output_type": "stream",
     "text": [
      "Контиги\n",
      "Количество: 601 \n",
      "Суммарная длина: 3924097 \n",
      "Наибольшая длина: 179307\n",
      "N50: 47798\n"
     ]
    }
   ],
   "source": [
    "print('Контиги')\n",
    "foo(open('Poil_contig.fa', 'r'), 'no_max_seq')"
   ]
  },
  {
   "cell_type": "code",
   "execution_count": 33,
   "metadata": {},
   "outputs": [
    {
     "name": "stdout",
     "output_type": "stream",
     "text": [
      "Скаффолды\n",
      "Количество гэпов:  65\n",
      "Общая длина гэпов: 5544\n",
      "Количество: 71 \n",
      "Суммарная длина: 3875146 \n",
      "Наибольшая длина: 3831917\n",
      "N50: 3831917\n"
     ]
    }
   ],
   "source": [
    "print('Скаффолды')\n",
    "foo(open('Poil_scaffold.fa', 'r'), '')"
   ]
  },
  {
   "cell_type": "code",
   "execution_count": 38,
   "metadata": {},
   "outputs": [
    {
     "name": "stdout",
     "output_type": "stream",
     "text": [
      "Количество гэпов:  10\n",
      "Общая длина гэпов: 1582\n"
     ]
    }
   ],
   "source": [
    "m_s = foo(open('Poil_gapClosed.fa', 'r'), 'only_max_seq')\n"
   ]
  },
  {
   "cell_type": "code",
   "execution_count": 39,
   "metadata": {},
   "outputs": [],
   "source": [
    "file = open('longest.fa', 'w')\n",
    "file.write(m_s)\n",
    "file.close()"
   ]
  },
  {
   "cell_type": "code",
   "execution_count": null,
   "metadata": {},
   "outputs": [],
   "source": []
  }
 ],
 "metadata": {
  "kernelspec": {
   "display_name": "Python 3.10.4 64-bit",
   "language": "python",
   "name": "python3"
  },
  "language_info": {
   "codemirror_mode": {
    "name": "ipython",
    "version": 3
   },
   "file_extension": ".py",
   "mimetype": "text/x-python",
   "name": "python",
   "nbconvert_exporter": "python",
   "pygments_lexer": "ipython3",
   "version": "3.10.4"
  },
  "orig_nbformat": 4,
  "vscode": {
   "interpreter": {
    "hash": "916dbcbb3f70747c44a77c7bcd40155683ae19c65e1c03b4aa3499c5328201f1"
   }
  }
 },
 "nbformat": 4,
 "nbformat_minor": 2
}
